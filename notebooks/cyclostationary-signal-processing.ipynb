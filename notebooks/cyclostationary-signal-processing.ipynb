{
 "cells": [
  {
   "cell_type": "markdown",
   "metadata": {},
   "source": [
    "Cyclostationary Signal Processing (CSP)\n",
    "\n",
    "I hope this will illustrate some basic (and possibly crude) attempts at cyclostationary signal processing (CSP). I have come across numerous papers making claims how \"cyclostationary features\" can be used as, well, features for CNNs when trying to detect types of modulation (BPSK, FM, etc.). \n",
    "\n",
    "Not being the most familiar with CSP, I figured I would start with basic examples, perhaps BPSK and then something else. \n"
   ]
  },
  {
   "cell_type": "code",
   "execution_count": null,
   "metadata": {},
   "outputs": [],
   "source": [
    "print(\"Welcome to Cyclostationary Signal Processing (CSP)\")"
   ]
  },
  {
   "cell_type": "markdown",
   "metadata": {},
   "source": [
    "Let's generate a waveform ... "
   ]
  },
  {
   "cell_type": "code",
   "execution_count": 6,
   "metadata": {
    "scrolled": true
   },
   "outputs": [
    {
     "data": {
      "image/png": "[encoded data removed]",
      "text/plain": [
       "<Figure size 432x288 with 1 Axes>"
      ]
     },
     "metadata": {
      "needs_background": "light"
     },
     "output_type": "display_data"
    }
   ],
   "source": [
    "import matplotlib.pyplot as plt\n",
    "import numpy as np\n",
    "\n",
    "\n",
    "Fs = 10000\n",
    "f = 100\n",
    "num_cycles = 5\n",
    "sample = Fs/f * num_cycles\n",
    "x = np.arange(sample)\n",
    "y = np.sin(2 * np.pi * f * x / Fs)\n",
    "plt.plot(x, y)\n",
    "plt.xlabel('time')\n",
    "plt.ylabel('amplitude')\n",
    "plt.show()"
   ]
  },
  {
   "cell_type": "markdown",
   "metadata": {},
   "source": [
    "I'm not sure if it's apporporate to bring this up, but again, I'm not an expert or even a frequent user of moments, cumulants, and CSP ... but I do recall \"moments\" from statistics and ML classes I've taken. And, I've seen in papers/websites how momments, cumulants, and CSP are related. So ... I think I will start very simple and look at some moments. Consider this an excercise for the brain if not at least some warm-ups for you experts. "
   ]
  },
  {
   "cell_type": "markdown",
   "metadata": {},
   "source": [
    "The first four moments:\n",
    "1: Mean\n",
    "2: Variance\n",
    "3: Skewness\n",
    "4: Kurtosis"
   ]
  },
  {
   "cell_type": "code",
   "execution_count": 10,
   "metadata": {},
   "outputs": [
    {
     "name": "stdout",
     "output_type": "stream",
     "text": [
      "MEAN: -7.105427357601002e-18\n",
      "VARIANCE: 0.5\n",
      "SKEW: -6.029155041345696e-17\n",
      "KURTOSIS: -1.5\n"
     ]
    }
   ],
   "source": [
    "import scipy.stats as sp\n",
    "\n",
    "print(\"MEAN:\", np.mean(y))\n",
    "print(\"VARIANCE:\", np.var(y))\n",
    "print(\"SKEW:\", sp.skew(y))\n",
    "print(\"KURTOSIS:\", sp.kurtosis(y))"
   ]
  },
  {
   "cell_type": "markdown",
   "metadata": {},
   "source": [
    "So, we can say MEAN and SKEW are zero. "
   ]
  },
  {
   "cell_type": "markdown",
   "metadata": {},
   "source": [
    "*NOTE* This is purely theoretical. A sampled waveform would be very different based on MANY things. I'm just trying to get my head wrapped around this right now."
   ]
  },
  {
   "cell_type": "markdown",
   "metadata": {},
   "source": [
    "Ok, now, let's think about cumulants ... \"Certain nonlinear combinations of moments, called “cumulants”\" (https://ocw.mit.edu/courses/mathematics/18-366-random-walks-and-diffusion-fall-2006/lecture-notes/lec02.pdf) ... so ... can python help us?"
   ]
  },
  {
   "cell_type": "code",
   "execution_count": 17,
   "metadata": {},
   "outputs": [
    {
     "name": "stdout",
     "output_type": "stream",
     "text": [
      "<HDF5 dataset \"f_meas_c\": shape (131072, 1), type \"<f8\">\n",
      "<HDF5 dataset \"f_meas_nc\": shape (131072, 1), type \"<f8\">\n",
      "<HDF5 dataset \"f_meas_psd\": shape (65536, 1), type \"<f8\">\n",
      "<HDF5 dataset \"f_theory_c\": shape (4096, 1), type \"<f8\">\n",
      "<HDF5 dataset \"f_theory_nc\": shape (4096, 1), type \"<f8\">\n",
      "<HDF5 dataset \"f_theory_psd\": shape (4096, 1), type \"<f8\">\n",
      "<HDF5 dataset \"psd_fsm\": shape (65536, 1), type \"<f8\">\n",
      "<HDF5 dataset \"psd_theory\": shape (1, 4096), type \"<f8\">\n",
      "<HDF5 dataset \"scf_c_fsm_0\": shape (131072, 1), type \"<f8\">\n",
      "<HDF5 dataset \"scf_c_fsm_n1\": shape (131072, 1), type \"<f8\">\n",
      "<HDF5 dataset \"scf_c_fsm_p1\": shape (131072, 1), type \"<f8\">\n",
      "<HDF5 dataset \"scf_c_theory_0\": shape (1, 4096), type \"<f8\">\n",
      "<HDF5 dataset \"scf_c_theory_n1\": shape (1, 4096), type \"<f8\">\n",
      "<HDF5 dataset \"scf_c_theory_p1\": shape (1, 4096), type \"<f8\">\n",
      "<HDF5 dataset \"scf_nc_fsm_1\": shape (131072, 1), type \"<f8\">\n",
      "<HDF5 dataset \"scf_nc_fsm_2\": shape (131072, 1), type \"<f8\">\n",
      "<HDF5 dataset \"scf_nc_fsm_3\": shape (131072, 1), type \"<f8\">\n",
      "<HDF5 dataset \"scf_nc_theory_1\": shape (1, 4096), type \"<f8\">\n",
      "<HDF5 dataset \"scf_nc_theory_2\": shape (1, 4096), type \"<f8\">\n",
      "<HDF5 dataset \"scf_nc_theory_3\": shape (1, 4096), type \"<f8\">\n"
     ]
    }
   ],
   "source": [
    "import h5py\n",
    "\n",
    "f = h5py.File('theory_and_meas_functions_mat.mat')\n",
    "for item in f.keys():\n",
    "   dataset=f[item]\n",
    "   print(dataset)\n",
    "f.close()"
   ]
  },
  {
   "cell_type": "code",
   "execution_count": null,
   "metadata": {},
   "outputs": [],
   "source": []
  }
 ],
 "metadata": {
  "kernelspec": {
   "display_name": "Python 3",
   "language": "python",
   "name": "python3"
  },
  "language_info": {
   "codemirror_mode": {
    "name": "ipython",
    "version": 3
   },
   "file_extension": ".py",
   "mimetype": "text/x-python",
   "name": "python",
   "nbconvert_exporter": "python",
   "pygments_lexer": "ipython3",
   "version": "3.7.1"
  }
 },
 "nbformat": 4,
 "nbformat_minor": 2
}
