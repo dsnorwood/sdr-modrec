{
 "cells": [
  {
   "cell_type": "markdown",
   "metadata": {},
   "source": [
    "Cyclostationary Signal Processing (CSP)\n",
    "\n",
    "I hope this will illustrate some basic (and possibly crude) attempts at cyclostationary signal processing (CSP). I have come across numerous papers making claims how \"cyclostationary features\" can be used as, well, features for CNNs when trying to detect types of modulation (BPSK, FM, etc.). \n",
    "\n",
    "Not being the most familiar with CSP, I figured I would start with basic examples, perhaps BPSK and then something else. \n"
   ]
  },
  {
   "cell_type": "code",
   "execution_count": 2,
   "metadata": {},
   "outputs": [
    {
     "name": "stdout",
     "output_type": "stream",
     "text": [
      "Welcome to Cyclostationary Signal Processing (CSP)\n"
     ]
    }
   ],
   "source": [
    "print(\"Welcome to Cyclostationary Signal Processing (CSP)\")"
   ]
  },
  {
   "cell_type": "code",
   "execution_count": null,
   "metadata": {},
   "outputs": [],
   "source": []
  }
 ],
 "metadata": {
  "kernelspec": {
   "display_name": "Python 3",
   "language": "python",
   "name": "python3"
  },
  "language_info": {
   "codemirror_mode": {
    "name": "ipython",
    "version": 3
   },
   "file_extension": ".py",
   "mimetype": "text/x-python",
   "name": "python",
   "nbconvert_exporter": "python",
   "pygments_lexer": "ipython3",
   "version": "3.7.1"
  }
 },
 "nbformat": 4,
 "nbformat_minor": 2
}
